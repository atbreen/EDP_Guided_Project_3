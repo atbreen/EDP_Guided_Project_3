{
 "cells": [
  {
   "cell_type": "markdown",
   "id": "91689322",
   "metadata": {},
   "source": [
    "## generate_data.py"
   ]
  },
  {
   "cell_type": "code",
   "execution_count": 1,
   "id": "082453eb",
   "metadata": {},
   "outputs": [
    {
     "name": "stdout",
     "output_type": "stream",
     "text": [
      "Data generation complete.\n"
     ]
    }
   ],
   "source": [
    "import csv\n",
    "import random\n",
    "from datetime import datetime, timedelta\n",
    "import json\n",
    "\n",
    "# Generate data for 50 characters\n",
    "NUM_ROWS = 1000\n",
    "\n",
    "# Create the CSV file\n",
    "OUTPUT_FILE = \"troop_movements.csv\"\n",
    "\n",
    "\n",
    "def choose_a_side(home_world):\n",
    "    \"\"\"\n",
    "    Randomly choose an empire or resistance side based on the likelihood \n",
    "    that someone from that world would join the rebel alliance.\n",
    "    Args:\n",
    "        home_world (dict): The home world data for the character.\n",
    "    Returns:\n",
    "        str: The empire or resistance side.\n",
    "    \"\"\"\n",
    "    if home_world[\"rebel_likelihood\"] > random.random():\n",
    "        return \"resistance\"\n",
    "    else:\n",
    "        return \"empire\"\n",
    "\n",
    "\n",
    "# Load home world data from JSON file\n",
    "with open(\"home_worlds.json\") as json_file:\n",
    "    home_worlds = json.load(json_file)\n",
    "\n",
    "# Generate data rows\n",
    "data_rows = []\n",
    "for i in range(1, NUM_ROWS + 1):\n",
    "    # Generate random values for each column\n",
    "    timestamp = datetime.now() - timedelta(seconds=i)\n",
    "    unit_id = i\n",
    "    unit_type = random.choice(\n",
    "        [\"stormtrooper\", \"tie_fighter\", \"at-st\", \"x-wing\",\n",
    "            \"resistance_soldier\", \"at-at\", \"tie_silencer\", \"unknown\"]\n",
    "    )\n",
    "    location_x = random.randint(1, 10)\n",
    "    location_y = random.randint(1, 10)\n",
    "    destination_x = random.randint(1, 10)\n",
    "    destination_y = random.randint(1, 10)\n",
    "\n",
    "    # Select a random home world from the available options\n",
    "    home_world = random.choice(home_worlds)\n",
    "    home_world_name = home_world[\"name\"]\n",
    "    empire_or_resistance = choose_a_side(home_world)\n",
    "\n",
    "    # Create the data row\n",
    "    data_row = [\n",
    "        timestamp.strftime(\"%Y-%m-%d %H:%M:%S\"),\n",
    "        unit_id,\n",
    "        unit_type,\n",
    "        empire_or_resistance,\n",
    "        location_x,\n",
    "        location_y,\n",
    "        destination_x,\n",
    "        destination_y,\n",
    "        home_world_name,\n",
    "    ]\n",
    "\n",
    "    # Add the data row to the list\n",
    "    data_rows.append(data_row)\n",
    "\n",
    "# Write the data to the CSV file\n",
    "with open(OUTPUT_FILE, \"w\", newline=\"\") as file:\n",
    "    writer = csv.writer(file)\n",
    "    writer.writerow(\n",
    "        [\"timestamp\", \"unit_id\", \"unit_type\", \"empire_or_resistance\", \"location_x\", \"location_y\", \"destination_x\",\n",
    "         \"destination_y\", \"homeworld\"]\n",
    "    )\n",
    "    writer.writerows(data_rows)\n",
    "\n",
    "print(\"Data generation complete.\")\n"
   ]
  },
  {
   "cell_type": "markdown",
   "id": "6c69f518",
   "metadata": {},
   "source": [
    "### Display troop_movements.csv as DataFrame"
   ]
  },
  {
   "cell_type": "code",
   "execution_count": 2,
   "id": "9634e878",
   "metadata": {},
   "outputs": [
    {
     "name": "stdout",
     "output_type": "stream",
     "text": [
      "               timestamp  unit_id           unit_type empire_or_resistance  \\\n",
      "0    2024-02-07 12:19:28        1               at-st               empire   \n",
      "1    2024-02-07 12:19:27        2             unknown           resistance   \n",
      "2    2024-02-07 12:19:26        3         tie_fighter           resistance   \n",
      "3    2024-02-07 12:19:25        4        tie_silencer               empire   \n",
      "4    2024-02-07 12:19:24        5              x-wing           resistance   \n",
      "..                   ...      ...                 ...                  ...   \n",
      "995  2024-02-07 12:02:53      996         tie_fighter               empire   \n",
      "996  2024-02-07 12:02:52      997               at-st           resistance   \n",
      "997  2024-02-07 12:02:51      998             unknown           resistance   \n",
      "998  2024-02-07 12:02:50      999  resistance_soldier               empire   \n",
      "999  2024-02-07 12:02:49     1000             unknown           resistance   \n",
      "\n",
      "     location_x  location_y  destination_x  destination_y   homeworld  \n",
      "0             4           8              1              3     Vulpter  \n",
      "1             9           4              6              8    Champala  \n",
      "2             3           4              2              1  Bestine IV  \n",
      "3             4           7              6              6    Corellia  \n",
      "4             6           5              9              4  Bestine IV  \n",
      "..          ...         ...            ...            ...         ...  \n",
      "995           1           5              8              7     Iktotch  \n",
      "996           5           8              2              2   Chandrila  \n",
      "997           5           8              8              1        Ojom  \n",
      "998          10           9             10              9       Kalee  \n",
      "999           4           1              1              3       Naboo  \n",
      "\n",
      "[1000 rows x 9 columns]\n"
     ]
    }
   ],
   "source": [
    "import pandas as pd\n",
    "df = pd.read_csv(\"troop_movements.csv\")\n",
    "print(df)"
   ]
  },
  {
   "cell_type": "markdown",
   "id": "6d9dd7bb",
   "metadata": {},
   "source": [
    "### Part 2: Build a prediction model"
   ]
  },
  {
   "cell_type": "code",
   "execution_count": 3,
   "id": "a75a9c77",
   "metadata": {},
   "outputs": [
    {
     "name": "stdout",
     "output_type": "stream",
     "text": [
      "  empire_or_resistance  count\n",
      "0               empire    480\n",
      "1           resistance    520\n"
     ]
    }
   ],
   "source": [
    "# Create grouped data showing counts of empire vs resistance.\n",
    "er = df.groupby(\"empire_or_resistance\").size().reset_index(name=\"count\")\n",
    "print(er.head())"
   ]
  },
  {
   "cell_type": "code",
   "execution_count": 4,
   "id": "fbf2292e",
   "metadata": {},
   "outputs": [
    {
     "name": "stdout",
     "output_type": "stream",
     "text": [
      "     homeworld  count\n",
      "0     Alderaan     25\n",
      "1  Aleen Minor     26\n",
      "2   Bestine IV     19\n",
      "3        Cerea     15\n",
      "4     Champala     26\n"
     ]
    }
   ],
   "source": [
    "# Create grouped data showing counts of characters by homeworld\n",
    "homeworld_counts = df.groupby(\"homeworld\").size().reset_index(name=\"count\")\n",
    "print(homeworld_counts.head())\n"
   ]
  },
  {
   "cell_type": "code",
   "execution_count": 5,
   "id": "9bc4a7d8",
   "metadata": {},
   "outputs": [
    {
     "name": "stdout",
     "output_type": "stream",
     "text": [
      "            unit_type  count\n",
      "0               at-at    128\n",
      "1               at-st    130\n",
      "2  resistance_soldier    116\n",
      "3        stormtrooper    118\n",
      "4         tie_fighter    119\n"
     ]
    }
   ],
   "source": [
    "# Created grouped data showing counts of characters by unit_type\n",
    "unit_type_counts = df.groupby(\"unit_type\").size().reset_index(name=\"count\")\n",
    "print(unit_type_counts.head())\n"
   ]
  },
  {
   "cell_type": "code",
   "execution_count": 6,
   "id": "95ab00cb",
   "metadata": {},
   "outputs": [
    {
     "data": {
      "text/html": [
       "<div>\n",
       "<style scoped>\n",
       "    .dataframe tbody tr th:only-of-type {\n",
       "        vertical-align: middle;\n",
       "    }\n",
       "\n",
       "    .dataframe tbody tr th {\n",
       "        vertical-align: top;\n",
       "    }\n",
       "\n",
       "    .dataframe thead th {\n",
       "        text-align: right;\n",
       "    }\n",
       "</style>\n",
       "<table border=\"1\" class=\"dataframe\">\n",
       "  <thead>\n",
       "    <tr style=\"text-align: right;\">\n",
       "      <th></th>\n",
       "      <th>timestamp</th>\n",
       "      <th>unit_id</th>\n",
       "      <th>unit_type</th>\n",
       "      <th>empire_or_resistance</th>\n",
       "      <th>location_x</th>\n",
       "      <th>location_y</th>\n",
       "      <th>destination_x</th>\n",
       "      <th>destination_y</th>\n",
       "      <th>homeworld</th>\n",
       "      <th>is_resistance</th>\n",
       "    </tr>\n",
       "  </thead>\n",
       "  <tbody>\n",
       "    <tr>\n",
       "      <th>0</th>\n",
       "      <td>2024-02-07 12:19:28</td>\n",
       "      <td>1</td>\n",
       "      <td>at-st</td>\n",
       "      <td>empire</td>\n",
       "      <td>4</td>\n",
       "      <td>8</td>\n",
       "      <td>1</td>\n",
       "      <td>3</td>\n",
       "      <td>Vulpter</td>\n",
       "      <td>False</td>\n",
       "    </tr>\n",
       "    <tr>\n",
       "      <th>1</th>\n",
       "      <td>2024-02-07 12:19:27</td>\n",
       "      <td>2</td>\n",
       "      <td>unknown</td>\n",
       "      <td>resistance</td>\n",
       "      <td>9</td>\n",
       "      <td>4</td>\n",
       "      <td>6</td>\n",
       "      <td>8</td>\n",
       "      <td>Champala</td>\n",
       "      <td>True</td>\n",
       "    </tr>\n",
       "    <tr>\n",
       "      <th>2</th>\n",
       "      <td>2024-02-07 12:19:26</td>\n",
       "      <td>3</td>\n",
       "      <td>tie_fighter</td>\n",
       "      <td>resistance</td>\n",
       "      <td>3</td>\n",
       "      <td>4</td>\n",
       "      <td>2</td>\n",
       "      <td>1</td>\n",
       "      <td>Bestine IV</td>\n",
       "      <td>True</td>\n",
       "    </tr>\n",
       "    <tr>\n",
       "      <th>3</th>\n",
       "      <td>2024-02-07 12:19:25</td>\n",
       "      <td>4</td>\n",
       "      <td>tie_silencer</td>\n",
       "      <td>empire</td>\n",
       "      <td>4</td>\n",
       "      <td>7</td>\n",
       "      <td>6</td>\n",
       "      <td>6</td>\n",
       "      <td>Corellia</td>\n",
       "      <td>False</td>\n",
       "    </tr>\n",
       "    <tr>\n",
       "      <th>4</th>\n",
       "      <td>2024-02-07 12:19:24</td>\n",
       "      <td>5</td>\n",
       "      <td>x-wing</td>\n",
       "      <td>resistance</td>\n",
       "      <td>6</td>\n",
       "      <td>5</td>\n",
       "      <td>9</td>\n",
       "      <td>4</td>\n",
       "      <td>Bestine IV</td>\n",
       "      <td>True</td>\n",
       "    </tr>\n",
       "  </tbody>\n",
       "</table>\n",
       "</div>"
      ],
      "text/plain": [
       "             timestamp  unit_id     unit_type empire_or_resistance  \\\n",
       "0  2024-02-07 12:19:28        1         at-st               empire   \n",
       "1  2024-02-07 12:19:27        2       unknown           resistance   \n",
       "2  2024-02-07 12:19:26        3   tie_fighter           resistance   \n",
       "3  2024-02-07 12:19:25        4  tie_silencer               empire   \n",
       "4  2024-02-07 12:19:24        5        x-wing           resistance   \n",
       "\n",
       "   location_x  location_y  destination_x  destination_y   homeworld  \\\n",
       "0           4           8              1              3     Vulpter   \n",
       "1           9           4              6              8    Champala   \n",
       "2           3           4              2              1  Bestine IV   \n",
       "3           4           7              6              6    Corellia   \n",
       "4           6           5              9              4  Bestine IV   \n",
       "\n",
       "   is_resistance  \n",
       "0          False  \n",
       "1           True  \n",
       "2           True  \n",
       "3          False  \n",
       "4           True  "
      ]
     },
     "execution_count": 6,
     "metadata": {},
     "output_type": "execute_result"
    }
   ],
   "source": [
    "# Engineer a new feature called is_resistance with a True or False value based on empire_or_resistance\n",
    "df['is_resistance'] = df[\"empire_or_resistance\"].map(lambda x: x == \"resistance\")\n",
    "df.head()"
   ]
  },
  {
   "cell_type": "code",
   "execution_count": 7,
   "id": "892d8a05",
   "metadata": {},
   "outputs": [
    {
     "data": {
      "text/plain": [
       "<Axes: xlabel='empire_or_resistance', ylabel='count'>"
      ]
     },
     "execution_count": 7,
     "metadata": {},
     "output_type": "execute_result"
    }
   ],
   "source": [
    "# Create a bar plot using Seaborn showing Empire vs Resistance distribution\n",
    "import seaborn as sns\n",
    "import matplotlib.pyplot as plt\n",
    "\n",
    "sns.barplot(x = 'empire_or_resistance',y='count',data = er)"
   ]
  },
  {
   "cell_type": "code",
   "execution_count": null,
   "id": "83e77c06",
   "metadata": {},
   "outputs": [],
   "source": [
    "# Create a prediction model using sklearn.tree.DecisionTreeClassifier that predicts if a character is joining either the Empire or the Resistance based on their homeworld and unit_type.\n",
    "from sklearn.tree import DecisionTreeClassifier\n",
    "from sklearn.preprocessing import OrdinalEncoder\n",
    "from sklearn.model_selection import train_test_split"
   ]
  },
  {
   "cell_type": "code",
   "execution_count": null,
   "id": "f0f1f87a",
   "metadata": {},
   "outputs": [],
   "source": [
    "features = [\"homeworld\",\"unit_type\"]\n",
    "# Convert categorical features to numeric using pd.get_dummies. \n",
    "df1 = df.copy()\n",
    "X_encoded = pd.get_dummies(df[features])\n",
    "y_encoded = pd.get_dummies(df['empire_or_resistance'])"
   ]
  },
  {
   "cell_type": "code",
   "execution_count": null,
   "id": "9ea8840d",
   "metadata": {
    "scrolled": true
   },
   "outputs": [],
   "source": [
    "X_train, X_test, y_train, y_test = train_test_split(X_encoded, y_encoded, test_size=0.2, random_state=1)\n",
    "\n",
    "model = DecisionTreeClassifier()\n",
    "model = model.fit(X_train,y_train)\n",
    "\n",
    "y_pred = model.predict(X_test)\n",
    "print(y_pred)"
   ]
  },
  {
   "cell_type": "code",
   "execution_count": null,
   "id": "5f2543c8",
   "metadata": {},
   "outputs": [],
   "source": [
    "# Get feature importances\n",
    "importances = model.feature_importances_\n",
    "\n",
    "# Create a DataFrame to hold the feature importances\n",
    "feature_importances = pd.DataFrame({'Feature': X_encoded.columns, 'Importance': importances})\n",
    "print(feature_importances)\n",
    "feature_importances = feature_importances.sort_values('Importance', ascending=True)\n",
    "\n",
    "# Create a bar plot that shows feature importance.\n",
    "plt.figure(figsize=(8, 6))\n",
    "plt.bar(feature_importances['Feature'], feature_importances['Importance'])\n",
    "plt.xticks(rotation=90)\n",
    "plt.xlabel('Feature')\n",
    "plt.ylabel('Importance')\n",
    "plt.title('Feature Importances')\n",
    "plt.show()"
   ]
  },
  {
   "cell_type": "code",
   "execution_count": null,
   "id": "360894fc",
   "metadata": {},
   "outputs": [],
   "source": [
    "# Save to model as a pickle file named trained_model.pkl\n",
    "import pickle\n",
    "filename = \"trained_model.pkl\"\n",
    "with open(filename, 'wb') as file:\n",
    "      pickle.dump(model, file)"
   ]
  },
  {
   "cell_type": "markdown",
   "id": "8f48182c",
   "metadata": {},
   "source": [
    "### Part 3: Use the trained model with “real” data\n",
    "\n",
    "Load data from troop_movements10m.csv (see Guided Project zip for file). This file contains 10 million records to be predicted. \n",
    "This data must be cleaned up a bit before it can be used:\n",
    "\n",
    "⦁\tSome unit_type records have a value of invalid_unit. Replace that with unknown.\n",
    "\n",
    "⦁\tSome location_x and location_Y values are missing. Use the ffill method to fill.\n",
    "\n",
    "⦁\tSave the clean data into a Parquet file named troop_movements10m.parquet.\n",
    "\n",
    "⦁\tYou need to install pyarrow and fastparquet to support saving to a Parquet file.\n",
    "\n",
    "pip install pyarrow\n",
    "\n",
    "pip install fastparquet\n",
    "\n",
    "Load the pickled model and load the data from the Parquet file into a data frame. Run the data through the model.\n"
   ]
  },
  {
   "cell_type": "code",
   "execution_count": null,
   "id": "5d5b9592",
   "metadata": {},
   "outputs": [],
   "source": [
    "df_trained = pd.read_csv('troop_movements.csv')\n",
    "\n",
    "df_trained.head()"
   ]
  },
  {
   "cell_type": "code",
   "execution_count": null,
   "id": "af8395c6",
   "metadata": {},
   "outputs": [
    {
     "name": "stdout",
     "output_type": "stream",
     "text": [
      "Requirement already satisfied: fastparquet in c:\\users\\wasadmin\\anaconda3\\lib\\site-packages (2023.10.1)\n",
      "Requirement already satisfied: cramjam>=2.3 in c:\\users\\wasadmin\\anaconda3\\lib\\site-packages (from fastparquet) (2.8.1)\n",
      "Requirement already satisfied: fsspec in c:\\users\\wasadmin\\anaconda3\\lib\\site-packages (from fastparquet) (2022.11.0)\n",
      "Requirement already satisfied: numpy>=1.20.3 in c:\\users\\wasadmin\\anaconda3\\lib\\site-packages (from fastparquet) (1.23.5)\n",
      "Requirement already satisfied: pandas>=1.5.0 in c:\\users\\wasadmin\\anaconda3\\lib\\site-packages (from fastparquet) (1.5.3)\n",
      "Requirement already satisfied: packaging in c:\\users\\wasadmin\\anaconda3\\lib\\site-packages (from fastparquet) (22.0)\n",
      "Requirement already satisfied: python-dateutil>=2.8.1 in c:\\users\\wasadmin\\anaconda3\\lib\\site-packages (from pandas>=1.5.0->fastparquet) (2.8.2)\n",
      "Requirement already satisfied: pytz>=2020.1 in c:\\users\\wasadmin\\anaconda3\\lib\\site-packages (from pandas>=1.5.0->fastparquet) (2022.7)\n",
      "Requirement already satisfied: six>=1.5 in c:\\users\\wasadmin\\anaconda3\\lib\\site-packages (from python-dateutil>=2.8.1->pandas>=1.5.0->fastparquet) (1.16.0)\n",
      "Note: you may need to restart the kernel to use updated packages.\n"
     ]
    }
   ],
   "source": [
    "%pip install pyarrow\n",
    "%pip install fastparquet"
   ]
  },
  {
   "cell_type": "code",
   "execution_count": null,
   "id": "5466a1bc",
   "metadata": {},
   "outputs": [
    {
     "data": {
      "text/plain": [
       "0                   at-st\n",
       "1                   at-at\n",
       "2            stormtrooper\n",
       "3                   at-st\n",
       "4                 unknown\n",
       "              ...        \n",
       "995                 at-st\n",
       "996    resistance_soldier\n",
       "997          stormtrooper\n",
       "998                 at-at\n",
       "999    resistance_soldier\n",
       "Name: unit_type, Length: 1000, dtype: object"
      ]
     },
     "execution_count": 41,
     "metadata": {},
     "output_type": "execute_result"
    }
   ],
   "source": [
    "df_trained.unit_type.replace(\"invalid_unit\",\"unknown\")"
   ]
  },
  {
   "cell_type": "code",
   "execution_count": null,
   "id": "95a7b01b",
   "metadata": {},
   "outputs": [
    {
     "data": {
      "text/plain": [
       "0      4\n",
       "1      8\n",
       "2      2\n",
       "3      5\n",
       "4      2\n",
       "      ..\n",
       "995    1\n",
       "996    9\n",
       "997    8\n",
       "998    8\n",
       "999    5\n",
       "Name: location_y, Length: 1000, dtype: int64"
      ]
     },
     "execution_count": 42,
     "metadata": {},
     "output_type": "execute_result"
    }
   ],
   "source": [
    "df_trained.location_x.ffill()\n",
    "df_trained.location_y.ffill()\n"
   ]
  },
  {
   "cell_type": "code",
   "execution_count": null,
   "id": "3ed9e768",
   "metadata": {},
   "outputs": [],
   "source": [
    "pquet = df_trained.to_parquet(\"clean_troopers.parquet\")"
   ]
  },
  {
   "cell_type": "code",
   "execution_count": null,
   "id": "3b043ea5",
   "metadata": {},
   "outputs": [],
   "source": [
    "with open(\"trained_model.pkl\",'rb') as f: \n",
    "    model2 = pickle.load(f)\n",
    "\n",
    "parquet_db = pd.read_parquet('clean_troopers.parquet', engine = 'pyarrow')"
   ]
  },
  {
   "cell_type": "code",
   "execution_count": null,
   "id": "2b7259c6",
   "metadata": {},
   "outputs": [
    {
     "name": "stdout",
     "output_type": "stream",
     "text": [
      "     homeworld_Alderaan  homeworld_Aleen Minor  homeworld_Bestine IV  \\\n",
      "0                     0                      0                     0   \n",
      "1                     0                      0                     0   \n",
      "2                     0                      0                     0   \n",
      "3                     0                      0                     0   \n",
      "4                     0                      0                     0   \n",
      "..                  ...                    ...                   ...   \n",
      "995                   0                      0                     0   \n",
      "996                   0                      0                     0   \n",
      "997                   0                      0                     0   \n",
      "998                   0                      0                     0   \n",
      "999                   0                      0                     0   \n",
      "\n",
      "     homeworld_Cerea  homeworld_Champala  homeworld_Chandrila  \\\n",
      "0                  0                   0                    0   \n",
      "1                  0                   0                    0   \n",
      "2                  0                   0                    0   \n",
      "3                  0                   0                    0   \n",
      "4                  0                   0                    0   \n",
      "..               ...                 ...                  ...   \n",
      "995                0                   0                    0   \n",
      "996                0                   0                    0   \n",
      "997                0                   0                    0   \n",
      "998                0                   0                    0   \n",
      "999                0                   0                    0   \n",
      "\n",
      "     homeworld_Concord Dawn  homeworld_Corellia  homeworld_Dagobah  \\\n",
      "0                         0                   0                  0   \n",
      "1                         0                   0                  0   \n",
      "2                         0                   0                  0   \n",
      "3                         0                   0                  0   \n",
      "4                         0                   0                  0   \n",
      "..                      ...                 ...                ...   \n",
      "995                       0                   0                  0   \n",
      "996                       0                   0                  0   \n",
      "997                       0                   0                  0   \n",
      "998                       0                   0                  0   \n",
      "999                       0                   1                  0   \n",
      "\n",
      "     homeworld_Dathomir  ...  homeworld_Vulpter  homeworld_Zolan  \\\n",
      "0                     0  ...                  0                0   \n",
      "1                     0  ...                  0                0   \n",
      "2                     0  ...                  0                0   \n",
      "3                     0  ...                  0                0   \n",
      "4                     0  ...                  0                0   \n",
      "..                  ...  ...                ...              ...   \n",
      "995                   0  ...                  0                0   \n",
      "996                   0  ...                  0                0   \n",
      "997                   0  ...                  0                0   \n",
      "998                   0  ...                  0                0   \n",
      "999                   0  ...                  0                0   \n",
      "\n",
      "     unit_type_at-at  unit_type_at-st  unit_type_resistance_soldier  \\\n",
      "0                  0                1                             0   \n",
      "1                  1                0                             0   \n",
      "2                  0                0                             0   \n",
      "3                  0                1                             0   \n",
      "4                  0                0                             0   \n",
      "..               ...              ...                           ...   \n",
      "995                0                1                             0   \n",
      "996                0                0                             1   \n",
      "997                0                0                             0   \n",
      "998                1                0                             0   \n",
      "999                0                0                             1   \n",
      "\n",
      "     unit_type_stormtrooper  unit_type_tie_fighter  unit_type_tie_silencer  \\\n",
      "0                         0                      0                       0   \n",
      "1                         0                      0                       0   \n",
      "2                         1                      0                       0   \n",
      "3                         0                      0                       0   \n",
      "4                         0                      0                       0   \n",
      "..                      ...                    ...                     ...   \n",
      "995                       0                      0                       0   \n",
      "996                       0                      0                       0   \n",
      "997                       1                      0                       0   \n",
      "998                       0                      0                       0   \n",
      "999                       0                      0                       0   \n",
      "\n",
      "     unit_type_unknown  unit_type_x-wing  \n",
      "0                    0                 0  \n",
      "1                    0                 0  \n",
      "2                    0                 0  \n",
      "3                    0                 0  \n",
      "4                    1                 0  \n",
      "..                 ...               ...  \n",
      "995                  0                 0  \n",
      "996                  0                 0  \n",
      "997                  0                 0  \n",
      "998                  0                 0  \n",
      "999                  0                 0  \n",
      "\n",
      "[1000 rows x 50 columns]\n",
      "     empire  resistance\n",
      "0         1           0\n",
      "1         1           0\n",
      "2         0           1\n",
      "3         0           1\n",
      "4         1           0\n",
      "..      ...         ...\n",
      "995       0           1\n",
      "996       1           0\n",
      "997       0           1\n",
      "998       1           0\n",
      "999       1           0\n",
      "\n",
      "[1000 rows x 2 columns]\n"
     ]
    }
   ],
   "source": [
    "features = [\"homeworld\",\"unit_type\"]\n",
    "# Convert categorical features to numeric using pd.get_dummies. \n",
    "X_encoded = pd.get_dummies(parquet_db[features])\n",
    "y_encoded = pd.get_dummies(parquet_db['empire_or_resistance'])\n",
    "\n",
    "print(X_encoded)\n",
    "print(y_encoded)"
   ]
  },
  {
   "cell_type": "code",
   "execution_count": null,
   "metadata": {},
   "outputs": [
    {
     "name": "stdout",
     "output_type": "stream",
     "text": [
      "   homeworld_Alderaan  homeworld_Aleen Minor  homeworld_Bestine IV  \\\n",
      "0                   0                      0                     0   \n",
      "1                   0                      0                     0   \n",
      "2                   0                      0                     0   \n",
      "3                   0                      0                     0   \n",
      "4                   0                      0                     0   \n",
      "\n",
      "   homeworld_Cerea  homeworld_Champala  homeworld_Chandrila  \\\n",
      "0                0                   0                    0   \n",
      "1                0                   0                    0   \n",
      "2                0                   0                    0   \n",
      "3                0                   0                    0   \n",
      "4                0                   0                    0   \n",
      "\n",
      "   homeworld_Concord Dawn  homeworld_Corellia  homeworld_Dagobah  \\\n",
      "0                       0                   0                  0   \n",
      "1                       0                   0                  0   \n",
      "2                       0                   0                  0   \n",
      "3                       0                   0                  0   \n",
      "4                       0                   0                  0   \n",
      "\n",
      "   homeworld_Dathomir  ...  homeworld_Vulpter  homeworld_Zolan  \\\n",
      "0                   0  ...                  0                0   \n",
      "1                   0  ...                  0                0   \n",
      "2                   0  ...                  0                0   \n",
      "3                   0  ...                  0                0   \n",
      "4                   0  ...                  0                0   \n",
      "\n",
      "   unit_type_at-at  unit_type_at-st  unit_type_resistance_soldier  \\\n",
      "0                0                1                             0   \n",
      "1                1                0                             0   \n",
      "2                0                0                             0   \n",
      "3                0                1                             0   \n",
      "4                0                0                             0   \n",
      "\n",
      "   unit_type_stormtrooper  unit_type_tie_fighter  unit_type_tie_silencer  \\\n",
      "0                       0                      0                       0   \n",
      "1                       0                      0                       0   \n",
      "2                       1                      0                       0   \n",
      "3                       0                      0                       0   \n",
      "4                       0                      0                       0   \n",
      "\n",
      "   unit_type_unknown  unit_type_x-wing  \n",
      "0                  0                 0  \n",
      "1                  0                 0  \n",
      "2                  0                 0  \n",
      "3                  0                 0  \n",
      "4                  1                 0  \n",
      "\n",
      "[5 rows x 50 columns]\n"
     ]
    }
   ],
   "source": [
    "print(X_encoded.head())"
   ]
  },
  {
   "cell_type": "code",
   "execution_count": null,
   "id": "a48142fd",
   "metadata": {},
   "outputs": [
    {
     "name": "stdout",
     "output_type": "stream",
     "text": [
      "[[1 0]\n",
      " [1 0]\n",
      " [0 1]\n",
      " ...\n",
      " [0 1]\n",
      " [0 1]\n",
      " [1 0]]\n"
     ]
    },
    {
     "ename": "AttributeError",
     "evalue": "'numpy.ndarray' object has no attribute 'map'",
     "output_type": "error",
     "traceback": [
      "\u001b[1;31m---------------------------------------------------------------------------\u001b[0m",
      "\u001b[1;31mAttributeError\u001b[0m                            Traceback (most recent call last)",
      "Cell \u001b[1;32mIn[47], line 4\u001b[0m\n\u001b[0;32m      1\u001b[0m ypred \u001b[38;5;241m=\u001b[39m model2\u001b[38;5;241m.\u001b[39mpredict(X_encoded)\n\u001b[0;32m      2\u001b[0m \u001b[38;5;28mprint\u001b[39m(ypred)\n\u001b[1;32m----> 4\u001b[0m df_trained[\u001b[38;5;124m'\u001b[39m\u001b[38;5;124mEmpire_Affilliated\u001b[39m\u001b[38;5;124m'\u001b[39m] \u001b[38;5;241m=\u001b[39m \u001b[43mypred\u001b[49m\u001b[38;5;241;43m.\u001b[39;49m\u001b[43mmap\u001b[49m(\u001b[38;5;28;01mlambda\u001b[39;00m x: x[\u001b[38;5;241m0\u001b[39m] \u001b[38;5;241m==\u001b[39m \u001b[38;5;241m1\u001b[39m )\n\u001b[0;32m      6\u001b[0m \u001b[38;5;66;03m#df[\"empire_or_resistance\"].map(lambda x: x == \"resistance\")\u001b[39;00m\n\u001b[0;32m      7\u001b[0m df_trained\n",
      "\u001b[1;31mAttributeError\u001b[0m: 'numpy.ndarray' object has no attribute 'map'"
     ]
    }
   ],
   "source": [
    "ypred = model2.predict(X_encoded)\n",
    "print(ypred)\n",
    "\n",
    "df_trained['Empire_Affilliated'] = ypred.map(lambda x: x[0] == 1 )\n",
    "\n",
    "#df[\"empire_or_resistance\"].map(lambda x: x == \"resistance\")\n",
    "df_trained\n"
   ]
  },
  {
   "cell_type": "code",
   "execution_count": null,
   "id": "f595fa45",
   "metadata": {},
   "outputs": [],
   "source": [
    "importances = model2.feature_importances_\n",
    "\n",
    "# Create a DataFrame to hold the feature importances\n",
    "feature_importances = pd.DataFrame({'Feature': X_encoded.columns, 'Importance': importances})\n",
    "print(feature_importances)\n",
    "feature_importances = feature_importances.sort_values('Importance', ascending=True)\n",
    "\n",
    "# Create a bar plot that shows feature importance.\n",
    "plt.figure(figsize=(8, 6))\n",
    "plt.bar(feature_importances['Feature'], feature_importances['Importance'])\n",
    "plt.xticks(rotation=90)\n",
    "plt.xlabel('Feature')\n",
    "plt.ylabel('Importance')\n",
    "plt.title('Feature Importances')\n",
    "plt.show()"
   ]
  }
 ],
 "metadata": {
  "kernelspec": {
   "display_name": "Python 3 (ipykernel)",
   "language": "python",
   "name": "python3"
  },
  "language_info": {
   "codemirror_mode": {
    "name": "ipython",
    "version": 3
   },
   "file_extension": ".py",
   "mimetype": "text/x-python",
   "name": "python",
   "nbconvert_exporter": "python",
   "pygments_lexer": "ipython3",
   "version": "3.10.9"
  }
 },
 "nbformat": 4,
 "nbformat_minor": 5
}
