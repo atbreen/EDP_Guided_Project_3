{
 "cells": [
  {
   "cell_type": "markdown",
   "id": "91689322",
   "metadata": {},
   "source": [
    "## generate_data.py"
   ]
  },
  {
   "cell_type": "code",
   "execution_count": 1,
   "id": "082453eb",
   "metadata": {},
   "outputs": [
    {
     "name": "stdout",
     "output_type": "stream",
     "text": [
      "Data generation complete.\n"
     ]
    }
   ],
   "source": [
    "import csv\n",
    "import random\n",
    "from datetime import datetime, timedelta\n",
    "import json\n",
    "\n",
    "# Generate data for 50 characters\n",
    "NUM_ROWS = 1000\n",
    "\n",
    "# Create the CSV file\n",
    "OUTPUT_FILE = \"troop_movements.csv\"\n",
    "\n",
    "\n",
    "def choose_a_side(home_world):\n",
    "    \"\"\"\n",
    "    Randomly choose an empire or resistance side based on the likelihood \n",
    "    that someone from that world would join the rebel alliance.\n",
    "    Args:\n",
    "        home_world (dict): The home world data for the character.\n",
    "    Returns:\n",
    "        str: The empire or resistance side.\n",
    "    \"\"\"\n",
    "    if home_world[\"rebel_likelihood\"] > random.random():\n",
    "        return \"resistance\"\n",
    "    else:\n",
    "        return \"empire\"\n",
    "\n",
    "\n",
    "# Load home world data from JSON file\n",
    "with open(\"home_worlds.json\") as json_file:\n",
    "    home_worlds = json.load(json_file)\n",
    "\n",
    "# Generate data rows\n",
    "data_rows = []\n",
    "for i in range(1, NUM_ROWS + 1):\n",
    "    # Generate random values for each column\n",
    "    timestamp = datetime.now() - timedelta(seconds=i)\n",
    "    unit_id = i\n",
    "    unit_type = random.choice(\n",
    "        [\"stormtrooper\", \"tie_fighter\", \"at-st\", \"x-wing\",\n",
    "            \"resistance_soldier\", \"at-at\", \"tie_silencer\", \"unknown\"]\n",
    "    )\n",
    "    location_x = random.randint(1, 10)\n",
    "    location_y = random.randint(1, 10)\n",
    "    destination_x = random.randint(1, 10)\n",
    "    destination_y = random.randint(1, 10)\n",
    "\n",
    "    # Select a random home world from the available options\n",
    "    home_world = random.choice(home_worlds)\n",
    "    home_world_name = home_world[\"name\"]\n",
    "    empire_or_resistance = choose_a_side(home_world)\n",
    "\n",
    "    # Create the data row\n",
    "    data_row = [\n",
    "        timestamp.strftime(\"%Y-%m-%d %H:%M:%S\"),\n",
    "        unit_id,\n",
    "        unit_type,\n",
    "        empire_or_resistance,\n",
    "        location_x,\n",
    "        location_y,\n",
    "        destination_x,\n",
    "        destination_y,\n",
    "        home_world_name,\n",
    "    ]\n",
    "\n",
    "    # Add the data row to the list\n",
    "    data_rows.append(data_row)\n",
    "\n",
    "# Write the data to the CSV file\n",
    "with open(OUTPUT_FILE, \"w\", newline=\"\") as file:\n",
    "    writer = csv.writer(file)\n",
    "    writer.writerow(\n",
    "        [\"timestamp\", \"unit_id\", \"unit_type\", \"empire_or_resistance\", \"location_x\", \"location_y\", \"destination_x\",\n",
    "         \"destination_y\", \"homeworld\"]\n",
    "    )\n",
    "    writer.writerows(data_rows)\n",
    "\n",
    "print(\"Data generation complete.\")\n"
   ]
  },
  {
   "cell_type": "markdown",
   "id": "6c69f518",
   "metadata": {},
   "source": [
    "### Display troop_movements.csv as DataFrame"
   ]
  },
  {
   "cell_type": "code",
   "execution_count": 2,
   "id": "9634e878",
   "metadata": {},
   "outputs": [
    {
     "data": {
      "text/html": [
       "<div>\n",
       "<style scoped>\n",
       "    .dataframe tbody tr th:only-of-type {\n",
       "        vertical-align: middle;\n",
       "    }\n",
       "\n",
       "    .dataframe tbody tr th {\n",
       "        vertical-align: top;\n",
       "    }\n",
       "\n",
       "    .dataframe thead th {\n",
       "        text-align: right;\n",
       "    }\n",
       "</style>\n",
       "<table border=\"1\" class=\"dataframe\">\n",
       "  <thead>\n",
       "    <tr style=\"text-align: right;\">\n",
       "      <th></th>\n",
       "      <th>timestamp</th>\n",
       "      <th>unit_id</th>\n",
       "      <th>unit_type</th>\n",
       "      <th>empire_or_resistance</th>\n",
       "      <th>location_x</th>\n",
       "      <th>location_y</th>\n",
       "      <th>destination_x</th>\n",
       "      <th>destination_y</th>\n",
       "      <th>homeworld</th>\n",
       "    </tr>\n",
       "  </thead>\n",
       "  <tbody>\n",
       "    <tr>\n",
       "      <th>0</th>\n",
       "      <td>2024-02-07 09:11:05</td>\n",
       "      <td>1</td>\n",
       "      <td>unknown</td>\n",
       "      <td>resistance</td>\n",
       "      <td>1</td>\n",
       "      <td>2</td>\n",
       "      <td>6</td>\n",
       "      <td>3</td>\n",
       "      <td>Mon Cala</td>\n",
       "    </tr>\n",
       "    <tr>\n",
       "      <th>1</th>\n",
       "      <td>2024-02-07 09:11:04</td>\n",
       "      <td>2</td>\n",
       "      <td>tie_fighter</td>\n",
       "      <td>empire</td>\n",
       "      <td>8</td>\n",
       "      <td>1</td>\n",
       "      <td>6</td>\n",
       "      <td>6</td>\n",
       "      <td>Haruun Kal</td>\n",
       "    </tr>\n",
       "    <tr>\n",
       "      <th>2</th>\n",
       "      <td>2024-02-07 09:11:03</td>\n",
       "      <td>3</td>\n",
       "      <td>tie_silencer</td>\n",
       "      <td>empire</td>\n",
       "      <td>1</td>\n",
       "      <td>8</td>\n",
       "      <td>7</td>\n",
       "      <td>8</td>\n",
       "      <td>Ojom</td>\n",
       "    </tr>\n",
       "    <tr>\n",
       "      <th>3</th>\n",
       "      <td>2024-02-07 09:11:02</td>\n",
       "      <td>4</td>\n",
       "      <td>tie_fighter</td>\n",
       "      <td>empire</td>\n",
       "      <td>5</td>\n",
       "      <td>3</td>\n",
       "      <td>6</td>\n",
       "      <td>5</td>\n",
       "      <td>Stewjon</td>\n",
       "    </tr>\n",
       "    <tr>\n",
       "      <th>4</th>\n",
       "      <td>2024-02-07 09:11:01</td>\n",
       "      <td>5</td>\n",
       "      <td>x-wing</td>\n",
       "      <td>resistance</td>\n",
       "      <td>9</td>\n",
       "      <td>1</td>\n",
       "      <td>5</td>\n",
       "      <td>8</td>\n",
       "      <td>Kashyyyk</td>\n",
       "    </tr>\n",
       "    <tr>\n",
       "      <th>...</th>\n",
       "      <td>...</td>\n",
       "      <td>...</td>\n",
       "      <td>...</td>\n",
       "      <td>...</td>\n",
       "      <td>...</td>\n",
       "      <td>...</td>\n",
       "      <td>...</td>\n",
       "      <td>...</td>\n",
       "      <td>...</td>\n",
       "    </tr>\n",
       "    <tr>\n",
       "      <th>995</th>\n",
       "      <td>2024-02-07 08:54:30</td>\n",
       "      <td>996</td>\n",
       "      <td>unknown</td>\n",
       "      <td>empire</td>\n",
       "      <td>6</td>\n",
       "      <td>3</td>\n",
       "      <td>9</td>\n",
       "      <td>7</td>\n",
       "      <td>Umbara</td>\n",
       "    </tr>\n",
       "    <tr>\n",
       "      <th>996</th>\n",
       "      <td>2024-02-07 08:54:29</td>\n",
       "      <td>997</td>\n",
       "      <td>resistance_soldier</td>\n",
       "      <td>resistance</td>\n",
       "      <td>5</td>\n",
       "      <td>2</td>\n",
       "      <td>3</td>\n",
       "      <td>3</td>\n",
       "      <td>Iridonia</td>\n",
       "    </tr>\n",
       "    <tr>\n",
       "      <th>997</th>\n",
       "      <td>2024-02-07 08:54:28</td>\n",
       "      <td>998</td>\n",
       "      <td>resistance_soldier</td>\n",
       "      <td>empire</td>\n",
       "      <td>3</td>\n",
       "      <td>8</td>\n",
       "      <td>3</td>\n",
       "      <td>2</td>\n",
       "      <td>Kalee</td>\n",
       "    </tr>\n",
       "    <tr>\n",
       "      <th>998</th>\n",
       "      <td>2024-02-07 08:54:27</td>\n",
       "      <td>999</td>\n",
       "      <td>at-at</td>\n",
       "      <td>empire</td>\n",
       "      <td>10</td>\n",
       "      <td>3</td>\n",
       "      <td>9</td>\n",
       "      <td>9</td>\n",
       "      <td>Concord Dawn</td>\n",
       "    </tr>\n",
       "    <tr>\n",
       "      <th>999</th>\n",
       "      <td>2024-02-07 08:54:26</td>\n",
       "      <td>1000</td>\n",
       "      <td>resistance_soldier</td>\n",
       "      <td>resistance</td>\n",
       "      <td>8</td>\n",
       "      <td>1</td>\n",
       "      <td>9</td>\n",
       "      <td>7</td>\n",
       "      <td>Mon Cala</td>\n",
       "    </tr>\n",
       "  </tbody>\n",
       "</table>\n",
       "<p>1000 rows × 9 columns</p>\n",
       "</div>"
      ],
      "text/plain": [
       "               timestamp  unit_id           unit_type empire_or_resistance  \\\n",
       "0    2024-02-07 09:11:05        1             unknown           resistance   \n",
       "1    2024-02-07 09:11:04        2         tie_fighter               empire   \n",
       "2    2024-02-07 09:11:03        3        tie_silencer               empire   \n",
       "3    2024-02-07 09:11:02        4         tie_fighter               empire   \n",
       "4    2024-02-07 09:11:01        5              x-wing           resistance   \n",
       "..                   ...      ...                 ...                  ...   \n",
       "995  2024-02-07 08:54:30      996             unknown               empire   \n",
       "996  2024-02-07 08:54:29      997  resistance_soldier           resistance   \n",
       "997  2024-02-07 08:54:28      998  resistance_soldier               empire   \n",
       "998  2024-02-07 08:54:27      999               at-at               empire   \n",
       "999  2024-02-07 08:54:26     1000  resistance_soldier           resistance   \n",
       "\n",
       "     location_x  location_y  destination_x  destination_y     homeworld  \n",
       "0             1           2              6              3      Mon Cala  \n",
       "1             8           1              6              6    Haruun Kal  \n",
       "2             1           8              7              8          Ojom  \n",
       "3             5           3              6              5       Stewjon  \n",
       "4             9           1              5              8      Kashyyyk  \n",
       "..          ...         ...            ...            ...           ...  \n",
       "995           6           3              9              7        Umbara  \n",
       "996           5           2              3              3      Iridonia  \n",
       "997           3           8              3              2         Kalee  \n",
       "998          10           3              9              9  Concord Dawn  \n",
       "999           8           1              9              7      Mon Cala  \n",
       "\n",
       "[1000 rows x 9 columns]"
      ]
     },
     "execution_count": 2,
     "metadata": {},
     "output_type": "execute_result"
    }
   ],
   "source": [
    "import pandas as pd\n",
    "df = pd.read_csv(\"troop_movements.csv\")\n",
    "df\n",
    "    "
   ]
  },
  {
   "cell_type": "markdown",
   "id": "6d9dd7bb",
   "metadata": {},
   "source": [
    "### Part 2: Build a prediction model"
   ]
  },
  {
   "cell_type": "code",
   "execution_count": 3,
   "id": "a75a9c77",
   "metadata": {},
   "outputs": [
    {
     "name": "stdout",
     "output_type": "stream",
     "text": [
      "  empire_or_resistance  count\n",
      "0               empire    521\n",
      "1           resistance    479\n"
     ]
    }
   ],
   "source": [
    "# Create grouped data showing counts of empire vs resistance.\n",
    "er = df.groupby(\"empire_or_resistance\").size().reset_index(name=\"count\")\n",
    "print(er.head())"
   ]
  },
  {
   "cell_type": "code",
   "execution_count": 4,
   "id": "fbf2292e",
   "metadata": {},
   "outputs": [
    {
     "name": "stdout",
     "output_type": "stream",
     "text": [
      "     homeworld  count\n",
      "0     Alderaan     23\n",
      "1  Aleen Minor     18\n",
      "2   Bestine IV     19\n",
      "3        Cerea     17\n",
      "4     Champala     26\n"
     ]
    }
   ],
   "source": [
    "# Create grouped data showing counts of characters by homeworld\n",
    "homeworld_counts = df.groupby(\"homeworld\").size().reset_index(name=\"count\")\n",
    "print(homeworld_counts.head())\n"
   ]
  },
  {
   "cell_type": "code",
   "execution_count": 5,
   "id": "9bc4a7d8",
   "metadata": {},
   "outputs": [
    {
     "name": "stdout",
     "output_type": "stream",
     "text": [
      "            unit_type  count\n",
      "0               at-at    141\n",
      "1               at-st    119\n",
      "2  resistance_soldier    137\n",
      "3        stormtrooper    103\n",
      "4         tie_fighter    133\n"
     ]
    }
   ],
   "source": [
    "# Created grouped data showing counts of characters by unit_type\n",
    "# Create grouped data showing counts of characters by homeworld\n",
    "homeworld_counts = df.groupby(\"unit_type\").size().reset_index(name=\"count\")\n",
    "print(homeworld_counts.head())\n"
   ]
  },
  {
   "cell_type": "code",
   "execution_count": 6,
   "id": "95ab00cb",
   "metadata": {},
   "outputs": [
    {
     "data": {
      "text/html": [
       "<div>\n",
       "<style scoped>\n",
       "    .dataframe tbody tr th:only-of-type {\n",
       "        vertical-align: middle;\n",
       "    }\n",
       "\n",
       "    .dataframe tbody tr th {\n",
       "        vertical-align: top;\n",
       "    }\n",
       "\n",
       "    .dataframe thead th {\n",
       "        text-align: right;\n",
       "    }\n",
       "</style>\n",
       "<table border=\"1\" class=\"dataframe\">\n",
       "  <thead>\n",
       "    <tr style=\"text-align: right;\">\n",
       "      <th></th>\n",
       "      <th>timestamp</th>\n",
       "      <th>unit_id</th>\n",
       "      <th>unit_type</th>\n",
       "      <th>empire_or_resistance</th>\n",
       "      <th>location_x</th>\n",
       "      <th>location_y</th>\n",
       "      <th>destination_x</th>\n",
       "      <th>destination_y</th>\n",
       "      <th>homeworld</th>\n",
       "      <th>is_resistance</th>\n",
       "    </tr>\n",
       "  </thead>\n",
       "  <tbody>\n",
       "    <tr>\n",
       "      <th>0</th>\n",
       "      <td>2024-02-07 09:11:05</td>\n",
       "      <td>1</td>\n",
       "      <td>unknown</td>\n",
       "      <td>resistance</td>\n",
       "      <td>1</td>\n",
       "      <td>2</td>\n",
       "      <td>6</td>\n",
       "      <td>3</td>\n",
       "      <td>Mon Cala</td>\n",
       "      <td>True</td>\n",
       "    </tr>\n",
       "    <tr>\n",
       "      <th>1</th>\n",
       "      <td>2024-02-07 09:11:04</td>\n",
       "      <td>2</td>\n",
       "      <td>tie_fighter</td>\n",
       "      <td>empire</td>\n",
       "      <td>8</td>\n",
       "      <td>1</td>\n",
       "      <td>6</td>\n",
       "      <td>6</td>\n",
       "      <td>Haruun Kal</td>\n",
       "      <td>False</td>\n",
       "    </tr>\n",
       "    <tr>\n",
       "      <th>2</th>\n",
       "      <td>2024-02-07 09:11:03</td>\n",
       "      <td>3</td>\n",
       "      <td>tie_silencer</td>\n",
       "      <td>empire</td>\n",
       "      <td>1</td>\n",
       "      <td>8</td>\n",
       "      <td>7</td>\n",
       "      <td>8</td>\n",
       "      <td>Ojom</td>\n",
       "      <td>False</td>\n",
       "    </tr>\n",
       "    <tr>\n",
       "      <th>3</th>\n",
       "      <td>2024-02-07 09:11:02</td>\n",
       "      <td>4</td>\n",
       "      <td>tie_fighter</td>\n",
       "      <td>empire</td>\n",
       "      <td>5</td>\n",
       "      <td>3</td>\n",
       "      <td>6</td>\n",
       "      <td>5</td>\n",
       "      <td>Stewjon</td>\n",
       "      <td>False</td>\n",
       "    </tr>\n",
       "    <tr>\n",
       "      <th>4</th>\n",
       "      <td>2024-02-07 09:11:01</td>\n",
       "      <td>5</td>\n",
       "      <td>x-wing</td>\n",
       "      <td>resistance</td>\n",
       "      <td>9</td>\n",
       "      <td>1</td>\n",
       "      <td>5</td>\n",
       "      <td>8</td>\n",
       "      <td>Kashyyyk</td>\n",
       "      <td>True</td>\n",
       "    </tr>\n",
       "  </tbody>\n",
       "</table>\n",
       "</div>"
      ],
      "text/plain": [
       "             timestamp  unit_id     unit_type empire_or_resistance  \\\n",
       "0  2024-02-07 09:11:05        1       unknown           resistance   \n",
       "1  2024-02-07 09:11:04        2   tie_fighter               empire   \n",
       "2  2024-02-07 09:11:03        3  tie_silencer               empire   \n",
       "3  2024-02-07 09:11:02        4   tie_fighter               empire   \n",
       "4  2024-02-07 09:11:01        5        x-wing           resistance   \n",
       "\n",
       "   location_x  location_y  destination_x  destination_y   homeworld  \\\n",
       "0           1           2              6              3    Mon Cala   \n",
       "1           8           1              6              6  Haruun Kal   \n",
       "2           1           8              7              8        Ojom   \n",
       "3           5           3              6              5     Stewjon   \n",
       "4           9           1              5              8    Kashyyyk   \n",
       "\n",
       "   is_resistance  \n",
       "0           True  \n",
       "1          False  \n",
       "2          False  \n",
       "3          False  \n",
       "4           True  "
      ]
     },
     "execution_count": 6,
     "metadata": {},
     "output_type": "execute_result"
    }
   ],
   "source": [
    "# Engineer a new feature called is_resistance with a True or False value based on empire_or_resiatance\n",
    "df['is_resistance'] = df[\"empire_or_resistance\"].map(lambda x: x == \"resistance\")\n",
    "df.head()"
   ]
  },
  {
   "cell_type": "code",
   "execution_count": 7,
   "id": "892d8a05",
   "metadata": {},
   "outputs": [
    {
     "data": {
      "text/plain": [
       "<Axes: xlabel='empire_or_resistance', ylabel='count'>"
      ]
     },
     "execution_count": 7,
     "metadata": {},
     "output_type": "execute_result"
    },
    {
     "data": {
      "image/png": "[encoded data removed]",
      "text/plain": [
       "<Figure size 640x480 with 1 Axes>"
      ]
     },
     "metadata": {},
     "output_type": "display_data"
    }
   ],
   "source": [
    "# Create a bar plot using Seaborn showing Empire vs Resistance distribution\n",
    "import seaborn as sns\n",
    "import matplotlib.pyplot as plt\n",
    "\n",
    "sns.barplot(x = 'empire_or_resistance',y='count',data = er)"
   ]
  },
  {
   "cell_type": "code",
   "execution_count": 13,
   "id": "83e77c06",
   "metadata": {},
   "outputs": [],
   "source": [
    "# Create a prediction model using sklearn.tree.DecisionTreeClassifier that predicts if a character is joining either the Empire or the Resistance based on their homeworld and unit_type.\n",
    "from sklearn.tree import DecisionTreeClassifier\n",
    "from sklearn.preprocessing import OrdinalEncoder\n",
    "from sklearn.model_selection import train_test_split"
   ]
  },
  {
   "cell_type": "code",
   "execution_count": 9,
   "id": "c1a40835",
   "metadata": {},
   "outputs": [],
   "source": [
    "features = [\"homeworld\",\"unit_type\"]\n",
    "X = df[features]\n",
    "y = df.empire_or_resistance"
   ]
  },
  {
   "cell_type": "code",
   "execution_count": 14,
   "id": "bb092bef",
   "metadata": {
    "scrolled": true
   },
   "outputs": [],
   "source": [
    "X_train, X_test, y_train, y_test = train_test_split(X, y, test_size=0.15, random_state=1)\n",
    "enc = OrdinalEncoder()\n"
   ]
  },
  {
   "cell_type": "code",
   "execution_count": 11,
   "id": "606ed6ed",
   "metadata": {},
   "outputs": [],
   "source": [
    "# Convert categorical features to numeric using pd.get_dummies."
   ]
  },
  {
   "cell_type": "code",
   "execution_count": 12,
   "id": "5f2543c8",
   "metadata": {},
   "outputs": [
    {
     "ename": "NameError",
     "evalue": "name 'model' is not defined",
     "output_type": "error",
     "traceback": [
      "\u001b[1;31m---------------------------------------------------------------------------\u001b[0m",
      "\u001b[1;31mNameError\u001b[0m                                 Traceback (most recent call last)",
      "Cell \u001b[1;32mIn[12], line 4\u001b[0m\n\u001b[0;32m      1\u001b[0m \u001b[38;5;66;03m# Create a bar plot that shows feature importance.\u001b[39;00m\n\u001b[0;32m      2\u001b[0m \u001b[38;5;66;03m# Example code to get feature importance:\u001b[39;00m\n\u001b[0;32m      3\u001b[0m \u001b[38;5;66;03m# Get feature importances\u001b[39;00m\n\u001b[1;32m----> 4\u001b[0m importances \u001b[38;5;241m=\u001b[39m \u001b[43mmodel\u001b[49m\u001b[38;5;241m.\u001b[39mfeature_importances_\n\u001b[0;32m      6\u001b[0m \u001b[38;5;66;03m# Create a DataFrame to hold the feature importances\u001b[39;00m\n\u001b[0;32m      7\u001b[0m feature_importances \u001b[38;5;241m=\u001b[39m pd\u001b[38;5;241m.\u001b[39mDataFrame({\u001b[38;5;124m'\u001b[39m\u001b[38;5;124mFeature\u001b[39m\u001b[38;5;124m'\u001b[39m: X_encoded\u001b[38;5;241m.\u001b[39mcolumns, \u001b[38;5;124m'\u001b[39m\u001b[38;5;124mImportance\u001b[39m\u001b[38;5;124m'\u001b[39m: importances})\n",
      "\u001b[1;31mNameError\u001b[0m: name 'model' is not defined"
     ]
    }
   ],
   "source": [
    "# Create a bar plot that shows feature importance.\n",
    "# Example code to get feature importance:\n",
    "# Get feature importances\n",
    "importances = model.feature_importances_\n",
    "\n",
    "# Create a DataFrame to hold the feature importances\n",
    "feature_importances = pd.DataFrame({'Feature': X_encoded.columns, 'Importance': importances})\n"
   ]
  },
  {
   "cell_type": "code",
   "execution_count": null,
   "id": "360894fc",
   "metadata": {},
   "outputs": [],
   "source": [
    "# Save to model as a pickle file named trained_model.pkl"
   ]
  },
  {
   "cell_type": "markdown",
   "id": "8f48182c",
   "metadata": {},
   "source": [
    "### Part 3: Use the trained model with “real” data\n",
    "\n",
    "Load data from troop_movements10m.csv (see Guided Project zip for file). This file contains 10 million records to be predicted. \n",
    "This data must be cleaned up a bit before it can be used:\n",
    "\n",
    "⦁\tSome unit_type records have a value of invalid_unit. Replace that with unknown.\n",
    "\n",
    "⦁\tSome location_x and location_Y values are missing. Use the ffill method to fill.\n",
    "\n",
    "⦁\tSave the clean data into a Parquet file named troop_movements10m.parquet.\n",
    "\n",
    "⦁\tYou need to install pyarrow and fastparquet to support saving to a Parquet file.\n",
    "\n",
    "pip install pyarrow\n",
    "\n",
    "pip install fastparquet\n",
    "\n",
    "Load the pickled model and load the data from the Parquet file into a data frame. Run the data through the model.\n"
   ]
  },
  {
   "cell_type": "code",
   "execution_count": null,
   "id": "5d5b9592",
   "metadata": {},
   "outputs": [],
   "source": []
  },
  {
   "cell_type": "code",
   "execution_count": null,
   "id": "af8395c6",
   "metadata": {},
   "outputs": [],
   "source": []
  },
  {
   "cell_type": "code",
   "execution_count": null,
   "id": "98826e66",
   "metadata": {},
   "outputs": [],
   "source": []
  }
 ],
 "metadata": {
  "kernelspec": {
   "display_name": "Python 3 (ipykernel)",
   "language": "python",
   "name": "python3"
  },
  "language_info": {
   "codemirror_mode": {
    "name": "ipython",
    "version": 3
   },
   "file_extension": ".py",
   "mimetype": "text/x-python",
   "name": "python",
   "nbconvert_exporter": "python",
   "pygments_lexer": "ipython3",
   "version": "3.10.9"
  }
 },
 "nbformat": 4,
 "nbformat_minor": 5
}
