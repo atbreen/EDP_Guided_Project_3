{
 "cells": [
  {
   "cell_type": "markdown",
   "id": "91689322",
   "metadata": {},
   "source": [
    "## generate_data.py"
   ]
  },
  {
   "cell_type": "code",
   "execution_count": 26,
   "id": "082453eb",
   "metadata": {},
   "outputs": [
    {
     "name": "stdout",
     "output_type": "stream",
     "text": [
      "Data generation complete.\n"
     ]
    }
   ],
   "source": [
    "import csv\n",
    "import random\n",
    "from datetime import datetime, timedelta\n",
    "import json\n",
    "import pandas as pd\n",
    "\n",
    "# Generate data for 50 characters\n",
    "NUM_ROWS = 1000\n",
    "\n",
    "# Create the CSV file\n",
    "OUTPUT_FILE = \"troop_movements.csv\"\n",
    "\n",
    "\n",
    "def choose_a_side(home_world):\n",
    "    \"\"\"\n",
    "    Randomly choose an empire or resistance side based on the likelihood \n",
    "    that someone from that world would join the rebel alliance.\n",
    "    Args:\n",
    "        home_world (dict): The home world data for the character.\n",
    "    Returns:\n",
    "        str: The empire or resistance side.\n",
    "    \"\"\"\n",
    "    if home_world[\"rebel_likelihood\"] > random.random():\n",
    "        return \"resistance\"\n",
    "    else:\n",
    "        return \"empire\"\n",
    "\n",
    "\n",
    "# Load home world data from JSON file\n",
    "with open(\"home_worlds.json\") as json_file:\n",
    "    home_worlds = json.load(json_file)\n",
    "\n",
    "# Generate data rows\n",
    "data_rows = []\n",
    "for i in range(1, NUM_ROWS + 1):\n",
    "    # Generate random values for each column\n",
    "    timestamp = datetime.now() - timedelta(seconds=i)\n",
    "    unit_id = i\n",
    "    unit_type = random.choice(\n",
    "        [\"stormtrooper\", \"tie_fighter\", \"at-st\", \"x-wing\",\n",
    "            \"resistance_soldier\", \"at-at\", \"tie_silencer\", \"unknown\"]\n",
    "    )\n",
    "    location_x = random.randint(1, 10)\n",
    "    location_y = random.randint(1, 10)\n",
    "    destination_x = random.randint(1, 10)\n",
    "    destination_y = random.randint(1, 10)\n",
    "\n",
    "    # Select a random home world from the available options\n",
    "    home_world = random.choice(home_worlds)\n",
    "    home_world_name = home_world[\"name\"]\n",
    "    empire_or_resistance = choose_a_side(home_world)\n",
    "\n",
    "    # Create the data row\n",
    "    data_row = [\n",
    "        timestamp.strftime(\"%Y-%m-%d %H:%M:%S\"),\n",
    "        unit_id,\n",
    "        unit_type,\n",
    "        empire_or_resistance,\n",
    "        location_x,\n",
    "        location_y,\n",
    "        destination_x,\n",
    "        destination_y,\n",
    "        home_world_name,\n",
    "    ]\n",
    "\n",
    "    # Add the data row to the list\n",
    "    data_rows.append(data_row)\n",
    "\n",
    "# Write the data to the CSV file\n",
    "with open(OUTPUT_FILE, \"w\", newline=\"\") as file:\n",
    "    writer = csv.writer(file)\n",
    "    writer.writerow(\n",
    "        [\"timestamp\", \"unit_id\", \"unit_type\", \"empire_or_resistance\", \"location_x\", \"location_y\", \"destination_x\",\n",
    "         \"destination_y\", \"homeworld\"]\n",
    "    )\n",
    "    writer.writerows(data_rows)\n",
    "\n",
    "print(\"Data generation complete.\")\n"
   ]
  },
  {
   "cell_type": "markdown",
   "id": "6c69f518",
   "metadata": {},
   "source": [
    "### Display troop_movements.csv as DataFrame"
   ]
  },
  {
   "cell_type": "code",
   "execution_count": 27,
   "id": "9634e878",
   "metadata": {},
   "outputs": [
    {
     "data": {
      "text/html": [
       "<div>\n",
       "<style scoped>\n",
       "    .dataframe tbody tr th:only-of-type {\n",
       "        vertical-align: middle;\n",
       "    }\n",
       "\n",
       "    .dataframe tbody tr th {\n",
       "        vertical-align: top;\n",
       "    }\n",
       "\n",
       "    .dataframe thead th {\n",
       "        text-align: right;\n",
       "    }\n",
       "</style>\n",
       "<table border=\"1\" class=\"dataframe\">\n",
       "  <thead>\n",
       "    <tr style=\"text-align: right;\">\n",
       "      <th></th>\n",
       "      <th>timestamp</th>\n",
       "      <th>unit_id</th>\n",
       "      <th>unit_type</th>\n",
       "      <th>empire_or_resistance</th>\n",
       "      <th>location_x</th>\n",
       "      <th>location_y</th>\n",
       "      <th>destination_x</th>\n",
       "      <th>destination_y</th>\n",
       "      <th>homeworld</th>\n",
       "    </tr>\n",
       "  </thead>\n",
       "  <tbody>\n",
       "    <tr>\n",
       "      <th>0</th>\n",
       "      <td>2024-02-06 17:01:50</td>\n",
       "      <td>1</td>\n",
       "      <td>resistance_soldier</td>\n",
       "      <td>empire</td>\n",
       "      <td>3</td>\n",
       "      <td>9</td>\n",
       "      <td>9</td>\n",
       "      <td>3</td>\n",
       "      <td>Glee Anselm</td>\n",
       "    </tr>\n",
       "    <tr>\n",
       "      <th>1</th>\n",
       "      <td>2024-02-06 17:01:49</td>\n",
       "      <td>2</td>\n",
       "      <td>tie_fighter</td>\n",
       "      <td>resistance</td>\n",
       "      <td>7</td>\n",
       "      <td>3</td>\n",
       "      <td>1</td>\n",
       "      <td>8</td>\n",
       "      <td>Umbara</td>\n",
       "    </tr>\n",
       "    <tr>\n",
       "      <th>2</th>\n",
       "      <td>2024-02-06 17:01:48</td>\n",
       "      <td>3</td>\n",
       "      <td>tie_silencer</td>\n",
       "      <td>empire</td>\n",
       "      <td>8</td>\n",
       "      <td>3</td>\n",
       "      <td>7</td>\n",
       "      <td>9</td>\n",
       "      <td>Mirial</td>\n",
       "    </tr>\n",
       "    <tr>\n",
       "      <th>3</th>\n",
       "      <td>2024-02-06 17:01:47</td>\n",
       "      <td>4</td>\n",
       "      <td>at-st</td>\n",
       "      <td>resistance</td>\n",
       "      <td>3</td>\n",
       "      <td>5</td>\n",
       "      <td>10</td>\n",
       "      <td>7</td>\n",
       "      <td>Socorro</td>\n",
       "    </tr>\n",
       "    <tr>\n",
       "      <th>4</th>\n",
       "      <td>2024-02-06 17:01:46</td>\n",
       "      <td>5</td>\n",
       "      <td>at-st</td>\n",
       "      <td>resistance</td>\n",
       "      <td>6</td>\n",
       "      <td>8</td>\n",
       "      <td>5</td>\n",
       "      <td>4</td>\n",
       "      <td>Sullust</td>\n",
       "    </tr>\n",
       "  </tbody>\n",
       "</table>\n",
       "</div>"
      ],
      "text/plain": [
       "             timestamp  unit_id           unit_type empire_or_resistance  \\\n",
       "0  2024-02-06 17:01:50        1  resistance_soldier               empire   \n",
       "1  2024-02-06 17:01:49        2         tie_fighter           resistance   \n",
       "2  2024-02-06 17:01:48        3        tie_silencer               empire   \n",
       "3  2024-02-06 17:01:47        4               at-st           resistance   \n",
       "4  2024-02-06 17:01:46        5               at-st           resistance   \n",
       "\n",
       "   location_x  location_y  destination_x  destination_y    homeworld  \n",
       "0           3           9              9              3  Glee Anselm  \n",
       "1           7           3              1              8       Umbara  \n",
       "2           8           3              7              9       Mirial  \n",
       "3           3           5             10              7      Socorro  \n",
       "4           6           8              5              4      Sullust  "
      ]
     },
     "execution_count": 27,
     "metadata": {},
     "output_type": "execute_result"
    }
   ],
   "source": [
    "df = pd.read_csv(\"troop_movements.csv\")\n",
    "df.head()\n",
    "    "
   ]
  },
  {
   "cell_type": "markdown",
   "id": "6d9dd7bb",
   "metadata": {},
   "source": [
    "### Part 2: Build a prediction model"
   ]
  },
  {
   "cell_type": "code",
   "execution_count": 28,
   "id": "a75a9c77",
   "metadata": {},
   "outputs": [],
   "source": [
    "# Create grouped data showing counts of empire vs resistance.\n"
   ]
  },
  {
   "cell_type": "code",
   "execution_count": 36,
   "id": "fbf2292e",
   "metadata": {},
   "outputs": [
    {
     "name": "stdout",
     "output_type": "stream",
     "text": [
      "     homeworld  count\n",
      "0     Alderaan     32\n",
      "1  Aleen Minor     32\n",
      "2   Bestine IV     25\n",
      "3        Cerea     21\n",
      "4     Champala     28\n"
     ]
    }
   ],
   "source": [
    "\n",
    "homeworld_counts = df.groupby(\"homeworld\").size().reset_index(name=\"count\")\n",
    "print(homeworld_counts.head())\n"
   ]
  },
  {
   "cell_type": "code",
   "execution_count": 37,
   "id": "9bc4a7d8",
   "metadata": {},
   "outputs": [
    {
     "name": "stdout",
     "output_type": "stream",
     "text": [
      "            unit_type  count\n",
      "0               at-at    135\n",
      "1               at-st    125\n",
      "2  resistance_soldier    122\n",
      "3        stormtrooper    126\n",
      "4         tie_fighter    121\n"
     ]
    }
   ],
   "source": [
    "unit_type_counts = df.groupby(\"unit_type\").size().reset_index(name=\"count\")\n",
    "print(unit_type_counts.head())\n"
   ]
  },
  {
   "cell_type": "code",
   "execution_count": 31,
   "id": "95ab00cb",
   "metadata": {},
   "outputs": [],
   "source": [
    "# Engineer a new feature called is_resistance with a True or False value based on empire_or_resiatance"
   ]
  },
  {
   "cell_type": "code",
   "execution_count": 32,
   "id": "892d8a05",
   "metadata": {},
   "outputs": [],
   "source": [
    "# Create a bar plot using Seaborn showing Empire vs Resistance distribution"
   ]
  },
  {
   "cell_type": "code",
   "execution_count": 33,
   "id": "83e77c06",
   "metadata": {},
   "outputs": [],
   "source": [
    "# Create a prediction model using sklearn.tree.DecisionTreeClassifier that predicts if a character is joining either the Empire or the Resistance based on their homeworld and unit_type.\n"
   ]
  },
  {
   "cell_type": "code",
   "execution_count": 34,
   "id": "606ed6ed",
   "metadata": {},
   "outputs": [],
   "source": [
    "# Convert categorical features to numeric using pd.get_dummies."
   ]
  },
  {
   "cell_type": "code",
   "execution_count": 35,
   "id": "5f2543c8",
   "metadata": {},
   "outputs": [
    {
     "ename": "NameError",
     "evalue": "name 'model' is not defined",
     "output_type": "error",
     "traceback": [
      "\u001b[1;31m---------------------------------------------------------------------------\u001b[0m",
      "\u001b[1;31mNameError\u001b[0m                                 Traceback (most recent call last)",
      "Cell \u001b[1;32mIn[35], line 4\u001b[0m\n\u001b[0;32m      1\u001b[0m \u001b[38;5;66;03m# Create a bar plot that shows feature importance.\u001b[39;00m\n\u001b[0;32m      2\u001b[0m \u001b[38;5;66;03m# Example code to get feature importance:\u001b[39;00m\n\u001b[0;32m      3\u001b[0m \u001b[38;5;66;03m# Get feature importances\u001b[39;00m\n\u001b[1;32m----> 4\u001b[0m importances \u001b[38;5;241m=\u001b[39m \u001b[43mmodel\u001b[49m\u001b[38;5;241m.\u001b[39mfeature_importances_\n\u001b[0;32m      6\u001b[0m \u001b[38;5;66;03m# Create a DataFrame to hold the feature importances\u001b[39;00m\n\u001b[0;32m      7\u001b[0m feature_importances \u001b[38;5;241m=\u001b[39m pd\u001b[38;5;241m.\u001b[39mDataFrame({\u001b[38;5;124m'\u001b[39m\u001b[38;5;124mFeature\u001b[39m\u001b[38;5;124m'\u001b[39m: X_encoded\u001b[38;5;241m.\u001b[39mcolumns, \u001b[38;5;124m'\u001b[39m\u001b[38;5;124mImportance\u001b[39m\u001b[38;5;124m'\u001b[39m: importances})\n",
      "\u001b[1;31mNameError\u001b[0m: name 'model' is not defined"
     ]
    }
   ],
   "source": [
    "# Create a bar plot that shows feature importance.\n",
    "# Example code to get feature importance:\n",
    "# Get feature importances\n",
    "importances = model.feature_importances_\n",
    "\n",
    "# Create a DataFrame to hold the feature importances\n",
    "feature_importances = pd.DataFrame({'Feature': X_encoded.columns, 'Importance': importances})\n"
   ]
  },
  {
   "cell_type": "code",
   "execution_count": null,
   "id": "360894fc",
   "metadata": {},
   "outputs": [],
   "source": [
    "# Save to model as a pickle file named trained_model.pkl"
   ]
  },
  {
   "cell_type": "markdown",
   "id": "8f48182c",
   "metadata": {},
   "source": [
    "### Part 3: Use the trained model with “real” data\n",
    "\n",
    "Load data from troop_movements10m.csv (see Guided Project zip for file). This file contains 10 million records to be predicted. \n",
    "This data must be cleaned up a bit before it can be used:\n",
    "\n",
    "⦁\tSome unit_type records have a value of invalid_unit. Replace that with unknown.\n",
    "\n",
    "⦁\tSome location_x and location_Y values are missing. Use the ffill method to fill.\n",
    "\n",
    "⦁\tSave the clean data into a Parquet file named troop_movements10m.parquet.\n",
    "\n",
    "⦁\tYou need to install pyarrow and fastparquet to support saving to a Parquet file.\n",
    "\n",
    "pip install pyarrow\n",
    "\n",
    "pip install fastparquet\n",
    "\n",
    "Load the pickled model and load the data from the Parquet file into a data frame. Run the data through the model.\n"
   ]
  },
  {
   "cell_type": "code",
   "execution_count": null,
   "id": "5d5b9592",
   "metadata": {},
   "outputs": [],
   "source": []
  },
  {
   "cell_type": "code",
   "execution_count": null,
   "id": "af8395c6",
   "metadata": {},
   "outputs": [],
   "source": []
  },
  {
   "cell_type": "code",
   "execution_count": null,
   "id": "98826e66",
   "metadata": {},
   "outputs": [],
   "source": []
  }
 ],
 "metadata": {
  "kernelspec": {
   "display_name": "Python 3 (ipykernel)",
   "language": "python",
   "name": "python3"
  },
  "language_info": {
   "codemirror_mode": {
    "name": "ipython",
    "version": 3
   },
   "file_extension": ".py",
   "mimetype": "text/x-python",
   "name": "python",
   "nbconvert_exporter": "python",
   "pygments_lexer": "ipython3",
   "version": "3.10.9"
  }
 },
 "nbformat": 4,
 "nbformat_minor": 5
}
